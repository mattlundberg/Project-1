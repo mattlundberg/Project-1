{
 "cells": [
  {
   "cell_type": "code",
   "execution_count": 1,
   "metadata": {},
   "outputs": [
    {
     "name": "stdout",
     "output_type": "stream",
     "text": [
      "Loading ./Resources/COS2019.csv\n",
      "Successfully loaded data for ./Resources/COS2019.csv\n",
      "Loading ./Resources/COS2020.csv\n",
      "Successfully loaded data for ./Resources/COS2020.csv\n",
      "Loading ./Resources/COS2021.csv\n",
      "Successfully loaded data for ./Resources/COS2021.csv\n",
      "Loading ./Resources/COS2022.csv\n",
      "Successfully loaded data for ./Resources/COS2022.csv\n",
      "Loading ./Resources/COS2023.csv\n",
      "Successfully loaded data for ./Resources/COS2023.csv\n",
      "\n",
      "Successfully combined 5 files\n",
      "Total records: 1,150,331\n",
      "<class 'pandas.core.frame.DataFrame'>\n",
      "RangeIndex: 1150331 entries, 0 to 1150330\n",
      "Data columns (total 4 columns):\n",
      " #   Column    Non-Null Count    Dtype         \n",
      "---  ------    --------------    -----         \n",
      " 0   INCIDENT  1150331 non-null  int64         \n",
      " 1   REPORTED  1150331 non-null  datetime64[ns]\n",
      " 2   CLOSED    1150317 non-null  datetime64[ns]\n",
      " 3   CATEGORY  1150331 non-null  object        \n",
      "dtypes: datetime64[ns](2), int64(1), object(1)\n",
      "memory usage: 35.1+ MB\n"
     ]
    },
    {
     "data": {
      "text/plain": [
       "None"
      ]
     },
     "metadata": {},
     "output_type": "display_data"
    },
    {
     "name": "stdout",
     "output_type": "stream",
     "text": [
      "Loading ./Resources/full_moons.csv\n",
      "Successfully loaded data for ./Resources/full_moons.csv\n",
      "\n",
      "Successfully combined 1 files\n",
      "Total records: 1,868\n",
      "<class 'pandas.core.frame.DataFrame'>\n",
      "RangeIndex: 1868 entries, 0 to 1867\n",
      "Data columns (total 3 columns):\n",
      " #   Column    Non-Null Count  Dtype         \n",
      "---  ------    --------------  -----         \n",
      " 0   Day       1868 non-null   object        \n",
      " 1   Flag      1868 non-null   object        \n",
      " 2   DateTime  1868 non-null   datetime64[ns]\n",
      "dtypes: datetime64[ns](1), object(2)\n",
      "memory usage: 43.9+ KB\n"
     ]
    },
    {
     "data": {
      "text/plain": [
       "None"
      ]
     },
     "metadata": {},
     "output_type": "display_data"
    },
    {
     "name": "stdout",
     "output_type": "stream",
     "text": [
      "Loading ./Resources/merc_retro.csv\n",
      "Successfully loaded data for ./Resources/merc_retro.csv\n",
      "\n",
      "Successfully combined 1 files\n",
      "Total records: 21\n",
      "<class 'pandas.core.frame.DataFrame'>\n",
      "RangeIndex: 21 entries, 0 to 20\n",
      "Data columns (total 3 columns):\n",
      " #   Column      Non-Null Count  Dtype         \n",
      "---  ------      --------------  -----         \n",
      " 0   year        21 non-null     int64         \n",
      " 1   start_date  21 non-null     datetime64[ns]\n",
      " 2   end_date    21 non-null     datetime64[ns]\n",
      "dtypes: datetime64[ns](2), int64(1)\n",
      "memory usage: 636.0 bytes\n"
     ]
    },
    {
     "data": {
      "text/plain": [
       "None"
      ]
     },
     "metadata": {},
     "output_type": "display_data"
    },
    {
     "name": "stdout",
     "output_type": "stream",
     "text": [
      "Loading ./Resources/Newmoondata.csv\n",
      "Successfully loaded data for ./Resources/Newmoondata.csv\n",
      "\n",
      "Successfully combined 1 files\n",
      "Total records: 61\n",
      "<class 'pandas.core.frame.DataFrame'>\n",
      "RangeIndex: 61 entries, 0 to 60\n",
      "Data columns (total 3 columns):\n",
      " #   Column    Non-Null Count  Dtype         \n",
      "---  ------    --------------  -----         \n",
      " 0   Date      61 non-null     object        \n",
      " 1   Time      61 non-null     object        \n",
      " 2   DateTime  61 non-null     datetime64[ns]\n",
      "dtypes: datetime64[ns](1), object(2)\n",
      "memory usage: 1.6+ KB\n"
     ]
    },
    {
     "data": {
      "text/plain": [
       "None"
      ]
     },
     "metadata": {},
     "output_type": "display_data"
    }
   ],
   "source": [
    "import pandas as pd\n",
    "import matplotlib.pyplot as plt\n",
    "import databuilder\n",
    "\n",
    "# Load the all data\n",
    "db = databuilder\n",
    "\n",
    "# gets the emergency data\n",
    "emergency_df = db.get_emergency_data()\n",
    "display(emergency_df.info())\n",
    "\n",
    "# gets the full moon data\n",
    "moon_df = db.get_full_moon_data()\n",
    "display(moon_df.info())\n",
    "\n",
    "# gets the mercury data\n",
    "mercury_df = db.get_mercury_data()\n",
    "display(mercury_df.info())\n",
    "\n",
    "# gets the new moon data\n",
    "new_moon_df = db.get_new_moon_data()\n",
    "display(new_moon_df.info())"
   ]
  }
 ],
 "metadata": {
  "kernelspec": {
   "display_name": "base",
   "language": "python",
   "name": "python3"
  },
  "language_info": {
   "codemirror_mode": {
    "name": "ipython",
    "version": 3
   },
   "file_extension": ".py",
   "mimetype": "text/x-python",
   "name": "python",
   "nbconvert_exporter": "python",
   "pygments_lexer": "ipython3",
   "version": "3.12.7"
  }
 },
 "nbformat": 4,
 "nbformat_minor": 2
}
