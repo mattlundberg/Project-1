{
 "cells": [
  {
   "cell_type": "code",
   "execution_count": 3,
   "metadata": {},
   "outputs": [
    {
     "name": "stdout",
     "output_type": "stream",
     "text": [
      "Successfully loaded data for ./Resources/COS2019.csv\n",
      "Successfully loaded data for ./Resources/COS2020.csv\n",
      "Successfully loaded data for ./Resources/COS2021.csv\n",
      "Successfully loaded data for ./Resources/COS2022.csv\n",
      "Successfully loaded data for ./Resources/COS2023.csv\n",
      "Successfully loaded data for ./Resources/COS2024.csv\n",
      "\n",
      "Successfully combined 6 files\n",
      "Total records: 1,397,703\n",
      "<class 'pandas.core.frame.DataFrame'>\n",
      "Index: 963558 entries, 434134 to 1397702\n",
      "Data columns (total 8 columns):\n",
      " #   Column            Non-Null Count   Dtype  \n",
      "---  ------            --------------   -----  \n",
      " 0   INCIDENT          963558 non-null  int64  \n",
      " 1   REPORTED          963558 non-null  object \n",
      " 2   CLOSED            963558 non-null  object \n",
      " 3   INCIDENT_ADDRESS  963558 non-null  object \n",
      " 4   NATURE_CODE       963558 non-null  object \n",
      " 5   NATURE_TEXT       963558 non-null  object \n",
      " 6   CATEGORY          963558 non-null  object \n",
      " 7   _id               963558 non-null  float64\n",
      "dtypes: float64(1), int64(1), object(6)\n",
      "memory usage: 66.2+ MB\n",
      "----------------------------------------\n",
      "Successfully loaded data for ./Resources/merc_retro.csv\n",
      "\n",
      "Successfully combined 1 files\n",
      "Total records: 21\n",
      "<class 'pandas.core.frame.DataFrame'>\n",
      "RangeIndex: 21 entries, 0 to 20\n",
      "Data columns (total 3 columns):\n",
      " #   Column      Non-Null Count  Dtype \n",
      "---  ------      --------------  ----- \n",
      " 0   year        21 non-null     int64 \n",
      " 1   start_date  21 non-null     object\n",
      " 2   end_date    21 non-null     object\n",
      "dtypes: int64(1), object(2)\n",
      "memory usage: 636.0+ bytes\n"
     ]
    }
   ],
   "source": [
    "import pandas as pd\n",
    "import matplotlib.pyplot as plt\n",
    "import databuilder\n",
    "\n",
    "\n",
    "combined_emergency_df = databuilder.get_emergency_data()\n",
    "combined_emergency_df.info()\n",
    "print(\"-\" * 40)\n",
    "combined_mercury_df = databuilder.get_mercury_data()\n",
    "combined_mercury_df.info()\n"
   ]
  }
 ],
 "metadata": {
  "kernelspec": {
   "display_name": "base",
   "language": "python",
   "name": "python3"
  },
  "language_info": {
   "codemirror_mode": {
    "name": "ipython",
    "version": 3
   },
   "file_extension": ".py",
   "mimetype": "text/x-python",
   "name": "python",
   "nbconvert_exporter": "python",
   "pygments_lexer": "ipython3",
   "version": "3.12.7"
  }
 },
 "nbformat": 4,
 "nbformat_minor": 2
}
