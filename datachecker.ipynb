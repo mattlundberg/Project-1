{
 "cells": [
  {
   "cell_type": "code",
   "execution_count": null,
   "metadata": {},
   "outputs": [
    {
     "name": "stdout",
     "output_type": "stream",
     "text": [
      "Loading ./Resources/Newmoondata.csv\n",
      "Successfully loaded data for ./Resources/Newmoondata.csv\n",
      "\n",
      "Successfully combined 1 files\n",
      "Total records: 61\n",
      "<class 'pandas.core.frame.DataFrame'>\n",
      "RangeIndex: 61 entries, 0 to 60\n",
      "Data columns (total 3 columns):\n",
      " #   Column    Non-Null Count  Dtype         \n",
      "---  ------    --------------  -----         \n",
      " 0   Date      61 non-null     object        \n",
      " 1   Time      61 non-null     object        \n",
      " 2   DateTime  61 non-null     datetime64[ns]\n",
      "dtypes: datetime64[ns](1), object(2)\n",
      "memory usage: 1.6+ KB\n"
     ]
    },
    {
     "data": {
      "text/plain": [
       "None"
      ]
     },
     "metadata": {},
     "output_type": "display_data"
    }
   ],
   "source": [
    "import pandas as pd\n",
    "import matplotlib.pyplot as plt\n",
    "import databuilder\n",
    "\n",
    "db = databuilder\n",
    "\n",
    "#Load the emergency data\n",
    "emergency_df = db.get_emergency_data()\n",
    "display(emergency_df.info())\n",
    "\n",
    "#Load the full moon data\n",
    "moon_df = db.get_full_moon_data()\n",
    "display(moon_df.info())\n",
    "\n",
    "#Load the mercury data\n",
    "mercury_df = db.get_mercury_data()\n",
    "display(mercury_df.info())\n",
    "\n",
    "#Load the new moon data\n",
    "new_moon_df = db.get_new_moon_data()\n",
    "display(new_moon_df.info())"
   ]
  }
 ],
 "metadata": {
  "kernelspec": {
   "display_name": "base",
   "language": "python",
   "name": "python3"
  },
  "language_info": {
   "codemirror_mode": {
    "name": "ipython",
    "version": 3
   },
   "file_extension": ".py",
   "mimetype": "text/x-python",
   "name": "python",
   "nbconvert_exporter": "python",
   "pygments_lexer": "ipython3",
   "version": "3.12.7"
  }
 },
 "nbformat": 4,
 "nbformat_minor": 2
}
