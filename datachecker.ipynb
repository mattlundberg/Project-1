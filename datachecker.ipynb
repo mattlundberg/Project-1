{
 "cells": [
  {
   "cell_type": "code",
   "execution_count": null,
   "metadata": {},
   "outputs": [
    {
     "name": "stdout",
     "output_type": "stream",
     "text": [
      "Loading ./Resources/COS2019.csv\n",
      "Successfully loaded data for ./Resources/COS2019.csv\n",
      "Loading ./Resources/COS2020.csv\n",
      "Successfully loaded data for ./Resources/COS2020.csv\n",
      "Loading ./Resources/COS2021.csv\n"
     ]
    }
   ],
   "source": [
    "import pandas as pd\n",
    "import matplotlib.pyplot as plt\n",
    "import databuilder\n",
    "import numpy as np\n",
    "\n",
    "# Load the all data\n",
    "db = databuilder.DataBuilder()\n"
   ]
  },
  {
   "cell_type": "code",
   "execution_count": null,
   "metadata": {},
   "outputs": [],
   "source": [
    "# gets the emergency data\n",
    "emergency_df = db.get_emergency_data()\n",
    "display(emergency_df.info())\n",
    "\n",
    "# gets the full moon data\n",
    "moon_df = db.get_full_moon_data()\n",
    "display(moon_df.info())\n",
    "\n",
    "# gets the mercury data\n",
    "mercury_df = db.get_mercury_data()\n",
    "display(mercury_df.info())\n",
    "\n",
    "# gets the new moon data\n",
    "new_moon_df = db.get_new_moon_data()\n",
    "display(new_moon_df.info())"
   ]
  }
 ],
 "metadata": {
  "kernelspec": {
   "display_name": "base",
   "language": "python",
   "name": "python3"
  },
  "language_info": {
   "codemirror_mode": {
    "name": "ipython",
    "version": 3
   },
   "file_extension": ".py",
   "mimetype": "text/x-python",
   "name": "python",
   "nbconvert_exporter": "python",
   "pygments_lexer": "ipython3",
   "version": "3.12.7"
  }
 },
 "nbformat": 4,
 "nbformat_minor": 2
}
