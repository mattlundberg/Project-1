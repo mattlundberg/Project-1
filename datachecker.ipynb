{
 "cells": [
  {
   "cell_type": "code",
   "execution_count": null,
   "metadata": {},
   "outputs": [],
   "source": [
    "import pandas as pd\n",
    "import matplotlib.pyplot as plt\n",
    "import databuilder\n",
    "\n",
    "#Load the emergency data\n",
    "emergency_df = databuilder.get_emergency_data()\n",
    "\n",
    "#Load the full moon data\n",
    "moon_df = databuilder.get_full_moon_data()\n",
    "\n",
    "#Load the mercury data\n",
    "mercury_df = databuilder.get_mercury_data()"
   ]
  }
 ],
 "metadata": {
  "kernelspec": {
   "display_name": "base",
   "language": "python",
   "name": "python3"
  },
  "language_info": {
   "codemirror_mode": {
    "name": "ipython",
    "version": 3
   },
   "file_extension": ".py",
   "mimetype": "text/x-python",
   "name": "python",
   "nbconvert_exporter": "python",
   "pygments_lexer": "ipython3",
   "version": "3.12.7"
  }
 },
 "nbformat": 4,
 "nbformat_minor": 2
}
