{
 "cells": [
  {
   "cell_type": "code",
   "execution_count": null,
   "metadata": {},
   "outputs": [],
   "source": [
    "import pandas as pd\n",
    "import databuilder\n",
    "import matplotlib.pyplot as plt\n",
    "\n",
    "# Load the emergency dataset into Pandas dataframe and display first five rows\n",
    "emergency_df = databuilder.get_emergency_data()\n",
    "display(emergency_df.head())\n",
    "\n",
    "# Load the mercury dataset into Pandas dataframe and display first five rows\n",
    "mercury_df = databuilder.get_mercury_data()\n",
    "display(mercury_df.head())\n"
   ]
  },
  {
   "cell_type": "markdown",
   "metadata": {},
   "source": [
    "### Question: Does the number of emergency calls increase during a planetary alignment?"
   ]
  },
  {
   "cell_type": "code",
   "execution_count": null,
   "metadata": {},
   "outputs": [],
   "source": [
    "print(emergency_df.columns)\n",
    "\n",
    "#print max date in emergency_df\n",
    "print(emergency_df['REPORTED'].max())\n",
    "#print min date in emergency_df\n",
    "print(emergency_df['REPORTED'].min())\n",
    "\n",
    "#add a count column then group by date and count\n",
    "emergency_df_grouped = emergency_df.groupby('REPORTED').count().reset_index()\n",
    "emergency_df_grouped.head()  \n",
    "\n",
    "# Step 1: Convert the timestamp column to datetime if it's not already\n",
    "emergency_df['REPORTED'] = pd.to_datetime(emergency_df['REPORTED'])\n",
    "\n",
    "# Step 2: Extract the date\n",
    "emergency_df['date'] = emergency_df['REPORTED'].dt.date\n",
    "\n",
    "# Step 3: Group by the extracted date\n",
    "\n",
    "# Replace 'value_column' with the actual column you want to aggregate\n",
    "grouped = emergency_df.groupby('date')['COUNT'].sum().reset_index()\n",
    "grouped.head()\n"
   ]
  },
  {
   "cell_type": "code",
   "execution_count": null,
   "metadata": {},
   "outputs": [],
   "source": [
    "#plot data in emergency_df \n",
    "grouped.plot(x='date', y='COUNT', kind='line')"
   ]
  },
  {
   "cell_type": "code",
   "execution_count": null,
   "metadata": {},
   "outputs": [],
   "source": [
    "grouped.describe()"
   ]
  },
  {
   "cell_type": "code",
   "execution_count": null,
   "metadata": {},
   "outputs": [],
   "source": [
    "mercury_df.head()"
   ]
  },
  {
   "cell_type": "code",
   "execution_count": 29,
   "metadata": {},
   "outputs": [
    {
     "name": "stdout",
     "output_type": "stream",
     "text": [
      "Average COUNT within date ranges: nan\n",
      "Average COUNT outside date ranges: 578.6\n",
      "\n",
      "Monthly averages:\n",
      "month\n",
      "2019-01    578.6\n",
      "Freq: M, Name: COUNT, dtype: float64\n"
     ]
    }
   ],
   "source": [
    "import pandas as pd\n",
    "\n",
    "# Function to check if a date falls within any of the date ranges\n",
    "def is_in_range(date, ranges):\n",
    "    return any((start <= date <= end for start, end in ranges))\n",
    "\n",
    "# Create a list of date ranges from mercury_df\n",
    "date_ranges = list(zip(mercury_df['start_date'], mercury_df['end_date']))\n",
    "\n",
    "# Apply the function to create a new column in grouped\n",
    "grouped['in_range'] = grouped['date'].apply(lambda x: is_in_range(x, date_ranges))\n",
    "\n",
    "# Calculate average COUNT for dates within ranges and outside ranges\n",
    "avg_in_range = grouped[grouped['in_range']]['COUNT'].mean()\n",
    "avg_out_range = grouped[~grouped['in_range']]['COUNT'].mean()\n",
    "\n",
    "print(f\"Average COUNT within date ranges: {avg_in_range}\")\n",
    "print(f\"Average COUNT outside date ranges: {avg_out_range}\")\n",
    "\n",
    "# Group by month and calculate average COUNT\n",
    "grouped['month'] = grouped['date'].dt.to_period('M')\n",
    "monthly_avg = grouped.groupby('month')['COUNT'].mean()\n",
    "\n",
    "print(\"\\nMonthly averages:\")\n",
    "print(monthly_avg)\n"
   ]
  }
 ],
 "metadata": {
  "kernelspec": {
   "display_name": "dev",
   "language": "python",
   "name": "python3"
  },
  "language_info": {
   "codemirror_mode": {
    "name": "ipython",
    "version": 3
   },
   "file_extension": ".py",
   "mimetype": "text/x-python",
   "name": "python",
   "nbconvert_exporter": "python",
   "pygments_lexer": "ipython3",
   "version": "3.10.15"
  }
 },
 "nbformat": 4,
 "nbformat_minor": 2
}
